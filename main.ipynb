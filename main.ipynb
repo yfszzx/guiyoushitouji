{
 "cells": [
  {
   "cell_type": "markdown",
   "id": "ec6d965c",
   "metadata": {},
   "source": [
    "程高前：程高本前80回  \n",
    "程高后：程高本后40回  \n",
    "癸酉前：癸酉本前80回  \n",
    "癸酉后：癸酉本前28回 \n",
    "癸酉本文本来源：网传2020年校订版"
   ]
  },
  {
   "cell_type": "code",
   "execution_count": 2,
   "id": "787d6b0b",
   "metadata": {},
   "outputs": [
    {
     "name": "stdout",
     "output_type": "stream",
     "text": [
      "程高前 字数:531407\n",
      "程高后 字数:231654\n",
      "癸酉前 字数:508974\n",
      "癸酉后 字数:217672\n"
     ]
    }
   ],
   "source": [
    "import jieba \n",
    "import re\n",
    "\n",
    "jieba.add_word(\"贾宝玉\")\n",
    "jieba.add_word(\"笑道\")\n",
    "#jieba.add_word(\"姽婳\")\n",
    "#jieba.add_word(\"倒罢\")\n",
    "def is_chinese_word(word):\n",
    "    for ch in word:\n",
    "        if ch < '一' or ch > '龥':\n",
    "            return False\n",
    "    return True\n",
    "def analysis(file):\n",
    "    with open(file, 'r',encoding='utf-8') as f:\n",
    "        txt=f.read()\n",
    "    words=jieba.lcut(txt)\n",
    "    counts={}\n",
    "    for word in words:       \n",
    "        counts[word]=counts.get(word,0)+1\n",
    "    remove_list = []\n",
    "    num = 0\n",
    "    for word in counts:\n",
    "        if not is_chinese_word(word):\n",
    "            remove_list.append(word)       \n",
    "        else:\n",
    "            num += len(word) * counts[word]\n",
    "    for word in remove_list:\n",
    "        del counts[word]\n",
    "    return counts, num\n",
    "files = {\"程高前\":'honglou.txt',  \"程高后\":'bashi.txt', \"癸酉前\":\"guiyou.txt\", \"癸酉后\":\"gybashi.txt\"}\n",
    "counts = {}\n",
    "nums = {}\n",
    "for f in files:\n",
    "    counts[f], nums[f] = analysis(files[f])\n",
    "    print(f, f\"字数:{nums[f]}\")    "
   ]
  },
  {
   "cell_type": "code",
   "execution_count": 14,
   "id": "a80e6eb7",
   "metadata": {},
   "outputs": [
    {
     "name": "stdout",
     "output_type": "stream",
     "text": [
      "【发怔】\n",
      "程高前 0\n",
      "程高后 0\n",
      "癸酉前 3\n",
      "癸酉后 12\n",
      "\n",
      "【发呆】\n",
      "程高前 0\n",
      "程高后 0\n",
      "癸酉前 2\n",
      "癸酉后 5\n",
      "\n",
      "【胡沁】\n",
      "程高前 0\n",
      "程高后 0\n",
      "癸酉前 0\n",
      "癸酉后 6\n",
      "[胡沁乱]  2\n",
      "\n",
      "【说道】\n",
      "程高前 646\n",
      "程高后 412\n",
      "癸酉前 564\n",
      "癸酉后 19\n",
      "\n",
      "【那宝玉】\n",
      "程高前 32\n",
      "程高后 15\n",
      "癸酉前 30\n",
      "癸酉后 1\n",
      "\n"
     ]
    }
   ],
   "source": [
    "def show_words(counts, nums, key, show_prop=False, show_extword=True):\n",
    "    print(f\"【{key}】\")\n",
    "    for f in counts:        \n",
    "        if key in counts[f]:\n",
    "            if show_prop:\n",
    "                print(f, counts[f][key], round(counts[f][key]/nums[f], 5))\n",
    "            else:\n",
    "                print(f, counts[f][key])\n",
    "        else:\n",
    "            print(f, 0)\n",
    "        if show_extword:\n",
    "            for k in counts[f]:\n",
    "                if len(key) < len(k) and key in k:\n",
    "                    print(f\"[{k}]  {counts[f][k]}\")\n",
    "    print()\n",
    "show_words(counts, nums, \"发怔\")\n",
    "show_words(counts, nums, \"发呆\")\n",
    "show_words(counts, nums, \"胡沁\")\n",
    "show_words(counts, nums, \"说道\")\n",
    "show_words(counts, nums, \"那宝玉\")"
   ]
  },
  {
   "cell_type": "code",
   "execution_count": 16,
   "id": "2cd6cafc",
   "metadata": {},
   "outputs": [
    {
     "name": "stdout",
     "output_type": "stream",
     "text": [
      "【屁】\n",
      "程高前 6\n",
      "程高后 0\n",
      "癸酉前 4\n",
      "癸酉后 4\n",
      "\n",
      "【放屁】\n",
      "程高前 5\n",
      "程高后 1\n",
      "癸酉前 5\n",
      "癸酉后 4\n",
      "\n",
      "【贾宝玉】\n",
      "程高前 3\n",
      "程高后 16\n",
      "癸酉前 4\n",
      "癸酉后 6\n",
      "\n",
      "【笑道】\n",
      "程高前 1847\n",
      "程高后 166\n",
      "癸酉前 1820\n",
      "癸酉后 396\n",
      "\n"
     ]
    }
   ],
   "source": [
    "show_words(counts, nums, \"屁\",  show_extword=False)\n",
    "show_words(counts, nums, \"放屁\",  show_extword=False)\n",
    "show_words(counts, nums, \"贾宝玉\",  show_extword=False)\n",
    "show_words(counts, nums, \"笑道\",  show_extword=False)"
   ]
  }
 ],
 "metadata": {
  "kernelspec": {
   "display_name": "Python 3 (ipykernel)",
   "language": "python",
   "name": "python3"
  },
  "language_info": {
   "codemirror_mode": {
    "name": "ipython",
    "version": 3
   },
   "file_extension": ".py",
   "mimetype": "text/x-python",
   "name": "python",
   "nbconvert_exporter": "python",
   "pygments_lexer": "ipython3",
   "version": "3.9.12"
  }
 },
 "nbformat": 4,
 "nbformat_minor": 5
}
